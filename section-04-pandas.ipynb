{
 "cells": [
  {
   "cell_type": "markdown",
   "metadata": {},
   "source": [
    "#  series\n",
    "\n",
    "https://www.udemy.com/course/python-jp/learn/lecture/3829922#content"
   ]
  },
  {
   "cell_type": "code",
   "execution_count": 70,
   "metadata": {},
   "outputs": [],
   "source": [
    "import numpy as np\n",
    "import pandas as pd\n",
    "from pandas import Series, DataFrame"
   ]
  },
  {
   "cell_type": "code",
   "execution_count": 71,
   "metadata": {
    "tags": []
   },
   "outputs": [
    {
     "output_type": "stream",
     "name": "stdout",
     "text": "obj : \n0     3\n1     6\n2     9\n3    12\ndtype: int64\nobj.values :  [ 3  6  9 12]\nobj.index :  RangeIndex(start=0, stop=4, step=1)\n"
    }
   ],
   "source": [
    "obj = Series([3,6,9,12])\n",
    "print('obj : ')\n",
    "print(obj)\n",
    "print('obj.values : ' , obj.values)\n",
    "print('obj.index : ', obj.index)"
   ]
  },
  {
   "cell_type": "code",
   "execution_count": 72,
   "metadata": {},
   "outputs": [],
   "source": [
    "ww2_cos = Series([8700000,4300000,3000000,2100000,400000], index=['USSR','Germany','China','Japan','USA'])"
   ]
  },
  {
   "cell_type": "code",
   "execution_count": 73,
   "metadata": {},
   "outputs": [
    {
     "output_type": "execute_result",
     "data": {
      "text/plain": "USSR       8700000\nGermany    4300000\nChina      3000000\nJapan      2100000\nUSA         400000\ndtype: int64"
     },
     "metadata": {},
     "execution_count": 73
    }
   ],
   "source": [
    "ww2_cos"
   ]
  },
  {
   "cell_type": "code",
   "execution_count": 74,
   "metadata": {},
   "outputs": [
    {
     "output_type": "execute_result",
     "data": {
      "text/plain": "400000"
     },
     "metadata": {},
     "execution_count": 74
    }
   ],
   "source": [
    " ww2_cos['USA']"
   ]
  },
  {
   "cell_type": "code",
   "execution_count": 75,
   "metadata": {},
   "outputs": [
    {
     "output_type": "execute_result",
     "data": {
      "text/plain": "USSR       8700000\nGermany    4300000\ndtype: int64"
     },
     "metadata": {},
     "execution_count": 75
    }
   ],
   "source": [
    "ww2_cos[ww2_cos>4000000]"
   ]
  },
  {
   "cell_type": "code",
   "execution_count": 76,
   "metadata": {},
   "outputs": [
    {
     "output_type": "execute_result",
     "data": {
      "text/plain": "USSR        True\nGermany     True\nChina      False\nJapan      False\nUSA        False\ndtype: bool"
     },
     "metadata": {},
     "execution_count": 76
    }
   ],
   "source": [
    "ww2_cos>4000000"
   ]
  },
  {
   "cell_type": "code",
   "execution_count": 77,
   "metadata": {},
   "outputs": [
    {
     "output_type": "execute_result",
     "data": {
      "text/plain": "True"
     },
     "metadata": {},
     "execution_count": 77
    }
   ],
   "source": [
    "'USSR' in ww2_cos"
   ]
  },
  {
   "cell_type": "code",
   "execution_count": 78,
   "metadata": {},
   "outputs": [],
   "source": [
    "ww2_dict = ww2_cos.to_dict()"
   ]
  },
  {
   "cell_type": "code",
   "execution_count": 79,
   "metadata": {},
   "outputs": [
    {
     "output_type": "execute_result",
     "data": {
      "text/plain": "{'USSR': 8700000,\n 'Germany': 4300000,\n 'China': 3000000,\n 'Japan': 2100000,\n 'USA': 400000}"
     },
     "metadata": {},
     "execution_count": 79
    }
   ],
   "source": [
    "ww2_dict "
   ]
  },
  {
   "cell_type": "code",
   "execution_count": 80,
   "metadata": {},
   "outputs": [],
   "source": [
    "ww2_Series = Series(ww2_dict )"
   ]
  },
  {
   "cell_type": "code",
   "execution_count": 81,
   "metadata": {},
   "outputs": [
    {
     "output_type": "execute_result",
     "data": {
      "text/plain": "USSR       8700000\nGermany    4300000\nChina      3000000\nJapan      2100000\nUSA         400000\ndtype: int64"
     },
     "metadata": {},
     "execution_count": 81
    }
   ],
   "source": [
    "ww2_Series"
   ]
  },
  {
   "cell_type": "code",
   "execution_count": 82,
   "metadata": {},
   "outputs": [],
   "source": [
    "countries = ['Germany','China','Japan','USA','USSR','Agentina']"
   ]
  },
  {
   "cell_type": "code",
   "execution_count": 83,
   "metadata": {},
   "outputs": [],
   "source": [
    "obj2 = Series(ww2_dict, index = countries)"
   ]
  },
  {
   "cell_type": "code",
   "execution_count": 84,
   "metadata": {},
   "outputs": [
    {
     "output_type": "execute_result",
     "data": {
      "text/plain": "Germany     4300000.0\nChina       3000000.0\nJapan       2100000.0\nUSA          400000.0\nUSSR        8700000.0\nAgentina          NaN\ndtype: float64"
     },
     "metadata": {},
     "execution_count": 84
    }
   ],
   "source": [
    "obj2"
   ]
  },
  {
   "cell_type": "code",
   "execution_count": 85,
   "metadata": {},
   "outputs": [
    {
     "output_type": "execute_result",
     "data": {
      "text/plain": "Germany     False\nChina       False\nJapan       False\nUSA         False\nUSSR        False\nAgentina     True\ndtype: bool"
     },
     "metadata": {},
     "execution_count": 85
    }
   ],
   "source": [
    "pd.isnull(obj2)"
   ]
  },
  {
   "cell_type": "code",
   "execution_count": 86,
   "metadata": {},
   "outputs": [
    {
     "output_type": "execute_result",
     "data": {
      "text/plain": "Germany      True\nChina        True\nJapan        True\nUSA          True\nUSSR         True\nAgentina    False\ndtype: bool"
     },
     "metadata": {},
     "execution_count": 86
    }
   ],
   "source": [
    "pd.notnull(obj2)"
   ]
  },
  {
   "cell_type": "code",
   "execution_count": 87,
   "metadata": {},
   "outputs": [
    {
     "output_type": "execute_result",
     "data": {
      "text/plain": "Agentina           NaN\nChina        6000000.0\nGermany      8600000.0\nJapan        4200000.0\nUSA           800000.0\nUSSR        17400000.0\ndtype: float64"
     },
     "metadata": {},
     "execution_count": 87
    }
   ],
   "source": [
    "ww2_Series + obj2"
   ]
  },
  {
   "cell_type": "code",
   "execution_count": 88,
   "metadata": {},
   "outputs": [],
   "source": [
    "obj2.name = '第二次世界大戦の死傷者'"
   ]
  },
  {
   "cell_type": "code",
   "execution_count": 89,
   "metadata": {},
   "outputs": [
    {
     "output_type": "execute_result",
     "data": {
      "text/plain": "Germany     4300000.0\nChina       3000000.0\nJapan       2100000.0\nUSA          400000.0\nUSSR        8700000.0\nAgentina          NaN\nName: 第二次世界大戦の死傷者, dtype: float64"
     },
     "metadata": {},
     "execution_count": 89
    }
   ],
   "source": [
    "obj2"
   ]
  },
  {
   "cell_type": "code",
   "execution_count": 90,
   "metadata": {},
   "outputs": [],
   "source": [
    "obj2.index.name='Countries'"
   ]
  },
  {
   "cell_type": "code",
   "execution_count": 91,
   "metadata": {},
   "outputs": [
    {
     "output_type": "execute_result",
     "data": {
      "text/plain": "Countries\nGermany     4300000.0\nChina       3000000.0\nJapan       2100000.0\nUSA          400000.0\nUSSR        8700000.0\nAgentina          NaN\nName: 第二次世界大戦の死傷者, dtype: float64"
     },
     "metadata": {},
     "execution_count": 91
    }
   ],
   "source": [
    "obj2"
   ]
  },
  {
   "cell_type": "markdown",
   "metadata": {},
   "source": [
    "# DataFrames\n",
    "\n",
    "https://www.udemy.com/course/python-jp/learn/lecture/3829924#content\n"
   ]
  },
  {
   "cell_type": "code",
   "execution_count": 92,
   "metadata": {},
   "outputs": [
    {
     "output_type": "execute_result",
     "data": {
      "text/plain": "   Rank                  Team     GP  Won  Lost  Tied   Pct.  \\\n0     1        Dallas Cowboys    914  520   388     6  0.572   \n1     2     Green Bay Packers  1,368  756   574    38  0.567   \n2     3  New England Patriots    916  512   395     9  0.564   \n3     4         Chicago Bears  1,402  769   591    42  0.563   \n4     5      Baltimore Ravens    384  214   169     1  0.559   \n5     6        Miami Dolphins    832  457   371     4  0.552   \n\n   First NFL Season   Division  \n0              1960   NFC East  \n1              1921  NFC North  \n2              1960   AFC East  \n3              1920  NFC North  \n4              1996  AFC North  \n5              1966   AFC East  ",
      "text/html": "<div>\n<style scoped>\n    .dataframe tbody tr th:only-of-type {\n        vertical-align: middle;\n    }\n\n    .dataframe tbody tr th {\n        vertical-align: top;\n    }\n\n    .dataframe thead th {\n        text-align: right;\n    }\n</style>\n<table border=\"1\" class=\"dataframe\">\n  <thead>\n    <tr style=\"text-align: right;\">\n      <th></th>\n      <th>Rank</th>\n      <th>Team</th>\n      <th>GP</th>\n      <th>Won</th>\n      <th>Lost</th>\n      <th>Tied</th>\n      <th>Pct.</th>\n      <th>First NFL Season</th>\n      <th>Division</th>\n    </tr>\n  </thead>\n  <tbody>\n    <tr>\n      <th>0</th>\n      <td>1</td>\n      <td>Dallas Cowboys</td>\n      <td>914</td>\n      <td>520</td>\n      <td>388</td>\n      <td>6</td>\n      <td>0.572</td>\n      <td>1960</td>\n      <td>NFC East</td>\n    </tr>\n    <tr>\n      <th>1</th>\n      <td>2</td>\n      <td>Green Bay Packers</td>\n      <td>1,368</td>\n      <td>756</td>\n      <td>574</td>\n      <td>38</td>\n      <td>0.567</td>\n      <td>1921</td>\n      <td>NFC North</td>\n    </tr>\n    <tr>\n      <th>2</th>\n      <td>3</td>\n      <td>New England Patriots</td>\n      <td>916</td>\n      <td>512</td>\n      <td>395</td>\n      <td>9</td>\n      <td>0.564</td>\n      <td>1960</td>\n      <td>AFC East</td>\n    </tr>\n    <tr>\n      <th>3</th>\n      <td>4</td>\n      <td>Chicago Bears</td>\n      <td>1,402</td>\n      <td>769</td>\n      <td>591</td>\n      <td>42</td>\n      <td>0.563</td>\n      <td>1920</td>\n      <td>NFC North</td>\n    </tr>\n    <tr>\n      <th>4</th>\n      <td>5</td>\n      <td>Baltimore Ravens</td>\n      <td>384</td>\n      <td>214</td>\n      <td>169</td>\n      <td>1</td>\n      <td>0.559</td>\n      <td>1996</td>\n      <td>AFC North</td>\n    </tr>\n    <tr>\n      <th>5</th>\n      <td>6</td>\n      <td>Miami Dolphins</td>\n      <td>832</td>\n      <td>457</td>\n      <td>371</td>\n      <td>4</td>\n      <td>0.552</td>\n      <td>1966</td>\n      <td>AFC East</td>\n    </tr>\n  </tbody>\n</table>\n</div>"
     },
     "metadata": {},
     "execution_count": 92
    }
   ],
   "source": [
    "nfl_frame = pd.read_csv('nfl_win_loss_record.csv').head(6)\n",
    "nfl_frame"
   ]
  },
  {
   "cell_type": "code",
   "execution_count": 93,
   "metadata": {},
   "outputs": [
    {
     "output_type": "execute_result",
     "data": {
      "text/plain": "Index(['Rank', 'Team', 'GP', 'Won', 'Lost', 'Tied', 'Pct.', 'First NFL Season',\n       'Division'],\n      dtype='object')"
     },
     "metadata": {},
     "execution_count": 93
    }
   ],
   "source": [
    "nfl_frame.columns"
   ]
  },
  {
   "cell_type": "code",
   "execution_count": 94,
   "metadata": {},
   "outputs": [
    {
     "output_type": "execute_result",
     "data": {
      "text/plain": "0    1960\n1    1921\n2    1960\n3    1920\n4    1996\n5    1966\nName: First NFL Season, dtype: int64"
     },
     "metadata": {},
     "execution_count": 94
    }
   ],
   "source": [
    "nfl_frame['First NFL Season']"
   ]
  },
  {
   "cell_type": "code",
   "execution_count": 95,
   "metadata": {},
   "outputs": [
    {
     "output_type": "execute_result",
     "data": {
      "text/plain": "0          Dallas Cowboys\n1       Green Bay Packers\n2    New England Patriots\n3           Chicago Bears\n4        Baltimore Ravens\n5          Miami Dolphins\nName: Team, dtype: object"
     },
     "metadata": {},
     "execution_count": 95
    }
   ],
   "source": [
    "nfl_frame.Team"
   ]
  },
  {
   "cell_type": "code",
   "execution_count": 96,
   "metadata": {},
   "outputs": [
    {
     "output_type": "execute_result",
     "data": {
      "text/plain": "                   Team  First NFL Season\n0        Dallas Cowboys              1960\n1     Green Bay Packers              1921\n2  New England Patriots              1960\n3         Chicago Bears              1920\n4      Baltimore Ravens              1996\n5        Miami Dolphins              1966",
      "text/html": "<div>\n<style scoped>\n    .dataframe tbody tr th:only-of-type {\n        vertical-align: middle;\n    }\n\n    .dataframe tbody tr th {\n        vertical-align: top;\n    }\n\n    .dataframe thead th {\n        text-align: right;\n    }\n</style>\n<table border=\"1\" class=\"dataframe\">\n  <thead>\n    <tr style=\"text-align: right;\">\n      <th></th>\n      <th>Team</th>\n      <th>First NFL Season</th>\n    </tr>\n  </thead>\n  <tbody>\n    <tr>\n      <th>0</th>\n      <td>Dallas Cowboys</td>\n      <td>1960</td>\n    </tr>\n    <tr>\n      <th>1</th>\n      <td>Green Bay Packers</td>\n      <td>1921</td>\n    </tr>\n    <tr>\n      <th>2</th>\n      <td>New England Patriots</td>\n      <td>1960</td>\n    </tr>\n    <tr>\n      <th>3</th>\n      <td>Chicago Bears</td>\n      <td>1920</td>\n    </tr>\n    <tr>\n      <th>4</th>\n      <td>Baltimore Ravens</td>\n      <td>1996</td>\n    </tr>\n    <tr>\n      <th>5</th>\n      <td>Miami Dolphins</td>\n      <td>1966</td>\n    </tr>\n  </tbody>\n</table>\n</div>"
     },
     "metadata": {},
     "execution_count": 96
    }
   ],
   "source": [
    "nfl_frame[['Team','First NFL Season']]"
   ]
  },
  {
   "cell_type": "code",
   "execution_count": 97,
   "metadata": {},
   "outputs": [
    {
     "output_type": "execute_result",
     "data": {
      "text/plain": "                   Team  First NFL Season\n0        Dallas Cowboys              1960\n1     Green Bay Packers              1921\n2  New England Patriots              1960\n3         Chicago Bears              1920\n4      Baltimore Ravens              1996\n5        Miami Dolphins              1966",
      "text/html": "<div>\n<style scoped>\n    .dataframe tbody tr th:only-of-type {\n        vertical-align: middle;\n    }\n\n    .dataframe tbody tr th {\n        vertical-align: top;\n    }\n\n    .dataframe thead th {\n        text-align: right;\n    }\n</style>\n<table border=\"1\" class=\"dataframe\">\n  <thead>\n    <tr style=\"text-align: right;\">\n      <th></th>\n      <th>Team</th>\n      <th>First NFL Season</th>\n    </tr>\n  </thead>\n  <tbody>\n    <tr>\n      <th>0</th>\n      <td>Dallas Cowboys</td>\n      <td>1960</td>\n    </tr>\n    <tr>\n      <th>1</th>\n      <td>Green Bay Packers</td>\n      <td>1921</td>\n    </tr>\n    <tr>\n      <th>2</th>\n      <td>New England Patriots</td>\n      <td>1960</td>\n    </tr>\n    <tr>\n      <th>3</th>\n      <td>Chicago Bears</td>\n      <td>1920</td>\n    </tr>\n    <tr>\n      <th>4</th>\n      <td>Baltimore Ravens</td>\n      <td>1996</td>\n    </tr>\n    <tr>\n      <th>5</th>\n      <td>Miami Dolphins</td>\n      <td>1966</td>\n    </tr>\n  </tbody>\n</table>\n</div>"
     },
     "metadata": {},
     "execution_count": 97
    }
   ],
   "source": [
    "nfl_frame_copy = DataFrame(nfl_frame, columns=['Team','First NFL Season'])\n",
    "nfl_frame_copy"
   ]
  },
  {
   "cell_type": "code",
   "execution_count": 98,
   "metadata": {},
   "outputs": [
    {
     "output_type": "execute_result",
     "data": {
      "text/plain": "                   Team  First NFL Season  Stadium\n0        Dallas Cowboys              1960      NaN\n1     Green Bay Packers              1921      NaN\n2  New England Patriots              1960      NaN\n3         Chicago Bears              1920      NaN\n4      Baltimore Ravens              1996      NaN\n5        Miami Dolphins              1966      NaN",
      "text/html": "<div>\n<style scoped>\n    .dataframe tbody tr th:only-of-type {\n        vertical-align: middle;\n    }\n\n    .dataframe tbody tr th {\n        vertical-align: top;\n    }\n\n    .dataframe thead th {\n        text-align: right;\n    }\n</style>\n<table border=\"1\" class=\"dataframe\">\n  <thead>\n    <tr style=\"text-align: right;\">\n      <th></th>\n      <th>Team</th>\n      <th>First NFL Season</th>\n      <th>Stadium</th>\n    </tr>\n  </thead>\n  <tbody>\n    <tr>\n      <th>0</th>\n      <td>Dallas Cowboys</td>\n      <td>1960</td>\n      <td>NaN</td>\n    </tr>\n    <tr>\n      <th>1</th>\n      <td>Green Bay Packers</td>\n      <td>1921</td>\n      <td>NaN</td>\n    </tr>\n    <tr>\n      <th>2</th>\n      <td>New England Patriots</td>\n      <td>1960</td>\n      <td>NaN</td>\n    </tr>\n    <tr>\n      <th>3</th>\n      <td>Chicago Bears</td>\n      <td>1920</td>\n      <td>NaN</td>\n    </tr>\n    <tr>\n      <th>4</th>\n      <td>Baltimore Ravens</td>\n      <td>1996</td>\n      <td>NaN</td>\n    </tr>\n    <tr>\n      <th>5</th>\n      <td>Miami Dolphins</td>\n      <td>1966</td>\n      <td>NaN</td>\n    </tr>\n  </tbody>\n</table>\n</div>"
     },
     "metadata": {},
     "execution_count": 98
    }
   ],
   "source": [
    "DataFrame(nfl_frame, columns=['Team','First NFL Season','Stadium'])"
   ]
  },
  {
   "cell_type": "code",
   "execution_count": 99,
   "metadata": {},
   "outputs": [
    {
     "output_type": "execute_result",
     "data": {
      "text/plain": "   Rank                  Team     GP  Won  Lost  Tied   Pct.  \\\n0     1        Dallas Cowboys    914  520   388     6  0.572   \n1     2     Green Bay Packers  1,368  756   574    38  0.567   \n2     3  New England Patriots    916  512   395     9  0.564   \n3     4         Chicago Bears  1,402  769   591    42  0.563   \n4     5      Baltimore Ravens    384  214   169     1  0.559   \n\n   First NFL Season   Division  \n0              1960   NFC East  \n1              1921  NFC North  \n2              1960   AFC East  \n3              1920  NFC North  \n4              1996  AFC North  ",
      "text/html": "<div>\n<style scoped>\n    .dataframe tbody tr th:only-of-type {\n        vertical-align: middle;\n    }\n\n    .dataframe tbody tr th {\n        vertical-align: top;\n    }\n\n    .dataframe thead th {\n        text-align: right;\n    }\n</style>\n<table border=\"1\" class=\"dataframe\">\n  <thead>\n    <tr style=\"text-align: right;\">\n      <th></th>\n      <th>Rank</th>\n      <th>Team</th>\n      <th>GP</th>\n      <th>Won</th>\n      <th>Lost</th>\n      <th>Tied</th>\n      <th>Pct.</th>\n      <th>First NFL Season</th>\n      <th>Division</th>\n    </tr>\n  </thead>\n  <tbody>\n    <tr>\n      <th>0</th>\n      <td>1</td>\n      <td>Dallas Cowboys</td>\n      <td>914</td>\n      <td>520</td>\n      <td>388</td>\n      <td>6</td>\n      <td>0.572</td>\n      <td>1960</td>\n      <td>NFC East</td>\n    </tr>\n    <tr>\n      <th>1</th>\n      <td>2</td>\n      <td>Green Bay Packers</td>\n      <td>1,368</td>\n      <td>756</td>\n      <td>574</td>\n      <td>38</td>\n      <td>0.567</td>\n      <td>1921</td>\n      <td>NFC North</td>\n    </tr>\n    <tr>\n      <th>2</th>\n      <td>3</td>\n      <td>New England Patriots</td>\n      <td>916</td>\n      <td>512</td>\n      <td>395</td>\n      <td>9</td>\n      <td>0.564</td>\n      <td>1960</td>\n      <td>AFC East</td>\n    </tr>\n    <tr>\n      <th>3</th>\n      <td>4</td>\n      <td>Chicago Bears</td>\n      <td>1,402</td>\n      <td>769</td>\n      <td>591</td>\n      <td>42</td>\n      <td>0.563</td>\n      <td>1920</td>\n      <td>NFC North</td>\n    </tr>\n    <tr>\n      <th>4</th>\n      <td>5</td>\n      <td>Baltimore Ravens</td>\n      <td>384</td>\n      <td>214</td>\n      <td>169</td>\n      <td>1</td>\n      <td>0.559</td>\n      <td>1996</td>\n      <td>AFC North</td>\n    </tr>\n  </tbody>\n</table>\n</div>"
     },
     "metadata": {},
     "execution_count": 99
    }
   ],
   "source": [
    "nfl_frame.head()"
   ]
  },
  {
   "cell_type": "code",
   "execution_count": 100,
   "metadata": {},
   "outputs": [
    {
     "output_type": "execute_result",
     "data": {
      "text/plain": "   Rank                  Team     GP  Won  Lost  Tied   Pct.  \\\n0     1        Dallas Cowboys    914  520   388     6  0.572   \n1     2     Green Bay Packers  1,368  756   574    38  0.567   \n2     3  New England Patriots    916  512   395     9  0.564   \n\n   First NFL Season   Division  \n0              1960   NFC East  \n1              1921  NFC North  \n2              1960   AFC East  ",
      "text/html": "<div>\n<style scoped>\n    .dataframe tbody tr th:only-of-type {\n        vertical-align: middle;\n    }\n\n    .dataframe tbody tr th {\n        vertical-align: top;\n    }\n\n    .dataframe thead th {\n        text-align: right;\n    }\n</style>\n<table border=\"1\" class=\"dataframe\">\n  <thead>\n    <tr style=\"text-align: right;\">\n      <th></th>\n      <th>Rank</th>\n      <th>Team</th>\n      <th>GP</th>\n      <th>Won</th>\n      <th>Lost</th>\n      <th>Tied</th>\n      <th>Pct.</th>\n      <th>First NFL Season</th>\n      <th>Division</th>\n    </tr>\n  </thead>\n  <tbody>\n    <tr>\n      <th>0</th>\n      <td>1</td>\n      <td>Dallas Cowboys</td>\n      <td>914</td>\n      <td>520</td>\n      <td>388</td>\n      <td>6</td>\n      <td>0.572</td>\n      <td>1960</td>\n      <td>NFC East</td>\n    </tr>\n    <tr>\n      <th>1</th>\n      <td>2</td>\n      <td>Green Bay Packers</td>\n      <td>1,368</td>\n      <td>756</td>\n      <td>574</td>\n      <td>38</td>\n      <td>0.567</td>\n      <td>1921</td>\n      <td>NFC North</td>\n    </tr>\n    <tr>\n      <th>2</th>\n      <td>3</td>\n      <td>New England Patriots</td>\n      <td>916</td>\n      <td>512</td>\n      <td>395</td>\n      <td>9</td>\n      <td>0.564</td>\n      <td>1960</td>\n      <td>AFC East</td>\n    </tr>\n  </tbody>\n</table>\n</div>"
     },
     "metadata": {},
     "execution_count": 100
    }
   ],
   "source": [
    "nfl_frame.head(3)"
   ]
  },
  {
   "cell_type": "code",
   "execution_count": 101,
   "metadata": {},
   "outputs": [
    {
     "output_type": "execute_result",
     "data": {
      "text/plain": "   Rank                  Team     GP  Won  Lost  Tied   Pct.  \\\n1     2     Green Bay Packers  1,368  756   574    38  0.567   \n2     3  New England Patriots    916  512   395     9  0.564   \n3     4         Chicago Bears  1,402  769   591    42  0.563   \n4     5      Baltimore Ravens    384  214   169     1  0.559   \n5     6        Miami Dolphins    832  457   371     4  0.552   \n\n   First NFL Season   Division  \n1              1921  NFC North  \n2              1960   AFC East  \n3              1920  NFC North  \n4              1996  AFC North  \n5              1966   AFC East  ",
      "text/html": "<div>\n<style scoped>\n    .dataframe tbody tr th:only-of-type {\n        vertical-align: middle;\n    }\n\n    .dataframe tbody tr th {\n        vertical-align: top;\n    }\n\n    .dataframe thead th {\n        text-align: right;\n    }\n</style>\n<table border=\"1\" class=\"dataframe\">\n  <thead>\n    <tr style=\"text-align: right;\">\n      <th></th>\n      <th>Rank</th>\n      <th>Team</th>\n      <th>GP</th>\n      <th>Won</th>\n      <th>Lost</th>\n      <th>Tied</th>\n      <th>Pct.</th>\n      <th>First NFL Season</th>\n      <th>Division</th>\n    </tr>\n  </thead>\n  <tbody>\n    <tr>\n      <th>1</th>\n      <td>2</td>\n      <td>Green Bay Packers</td>\n      <td>1,368</td>\n      <td>756</td>\n      <td>574</td>\n      <td>38</td>\n      <td>0.567</td>\n      <td>1921</td>\n      <td>NFC North</td>\n    </tr>\n    <tr>\n      <th>2</th>\n      <td>3</td>\n      <td>New England Patriots</td>\n      <td>916</td>\n      <td>512</td>\n      <td>395</td>\n      <td>9</td>\n      <td>0.564</td>\n      <td>1960</td>\n      <td>AFC East</td>\n    </tr>\n    <tr>\n      <th>3</th>\n      <td>4</td>\n      <td>Chicago Bears</td>\n      <td>1,402</td>\n      <td>769</td>\n      <td>591</td>\n      <td>42</td>\n      <td>0.563</td>\n      <td>1920</td>\n      <td>NFC North</td>\n    </tr>\n    <tr>\n      <th>4</th>\n      <td>5</td>\n      <td>Baltimore Ravens</td>\n      <td>384</td>\n      <td>214</td>\n      <td>169</td>\n      <td>1</td>\n      <td>0.559</td>\n      <td>1996</td>\n      <td>AFC North</td>\n    </tr>\n    <tr>\n      <th>5</th>\n      <td>6</td>\n      <td>Miami Dolphins</td>\n      <td>832</td>\n      <td>457</td>\n      <td>371</td>\n      <td>4</td>\n      <td>0.552</td>\n      <td>1966</td>\n      <td>AFC East</td>\n    </tr>\n  </tbody>\n</table>\n</div>"
     },
     "metadata": {},
     "execution_count": 101
    }
   ],
   "source": [
    "nfl_frame.tail()"
   ]
  },
  {
   "cell_type": "code",
   "execution_count": 102,
   "metadata": {},
   "outputs": [
    {
     "output_type": "execute_result",
     "data": {
      "text/plain": "   Rank                  Team   GP  Won  Lost  Tied   Pct.  First NFL Season  \\\n2     3  New England Patriots  916  512   395     9  0.564              1960   \n\n   Division  \n2  AFC East  ",
      "text/html": "<div>\n<style scoped>\n    .dataframe tbody tr th:only-of-type {\n        vertical-align: middle;\n    }\n\n    .dataframe tbody tr th {\n        vertical-align: top;\n    }\n\n    .dataframe thead th {\n        text-align: right;\n    }\n</style>\n<table border=\"1\" class=\"dataframe\">\n  <thead>\n    <tr style=\"text-align: right;\">\n      <th></th>\n      <th>Rank</th>\n      <th>Team</th>\n      <th>GP</th>\n      <th>Won</th>\n      <th>Lost</th>\n      <th>Tied</th>\n      <th>Pct.</th>\n      <th>First NFL Season</th>\n      <th>Division</th>\n    </tr>\n  </thead>\n  <tbody>\n    <tr>\n      <th>2</th>\n      <td>3</td>\n      <td>New England Patriots</td>\n      <td>916</td>\n      <td>512</td>\n      <td>395</td>\n      <td>9</td>\n      <td>0.564</td>\n      <td>1960</td>\n      <td>AFC East</td>\n    </tr>\n  </tbody>\n</table>\n</div>"
     },
     "metadata": {},
     "execution_count": 102
    }
   ],
   "source": [
    "nfl_frame.iloc[2:3]"
   ]
  },
  {
   "cell_type": "code",
   "execution_count": 103,
   "metadata": {},
   "outputs": [
    {
     "output_type": "execute_result",
     "data": {
      "text/plain": "Rank                                   3\nTeam                New England Patriots\nGP                                   916\nWon                                  512\nLost                                 395\nTied                                   9\nPct.                               0.564\nFirst NFL Season                    1960\nDivision                        AFC East\nName: 2, dtype: object"
     },
     "metadata": {},
     "execution_count": 103
    }
   ],
   "source": [
    "nfl_frame.iloc[2]"
   ]
  },
  {
   "cell_type": "code",
   "execution_count": 104,
   "metadata": {},
   "outputs": [
    {
     "output_type": "execute_result",
     "data": {
      "text/plain": "   Rank                  Team     GP  Won  Lost  Tied   Pct.  \\\n0     1        Dallas Cowboys    914  520   388     6  0.572   \n1     2     Green Bay Packers  1,368  756   574    38  0.567   \n2     3  New England Patriots    916  512   395     9  0.564   \n3     4         Chicago Bears  1,402  769   591    42  0.563   \n4     5      Baltimore Ravens    384  214   169     1  0.559   \n5     6        Miami Dolphins    832  457   371     4  0.552   \n\n   First NFL Season   Division         Stadium  \n0              1960   NFC East  Levi's Stadium  \n1              1921  NFC North  Levi's Stadium  \n2              1960   AFC East  Levi's Stadium  \n3              1920  NFC North  Levi's Stadium  \n4              1996  AFC North  Levi's Stadium  \n5              1966   AFC East  Levi's Stadium  ",
      "text/html": "<div>\n<style scoped>\n    .dataframe tbody tr th:only-of-type {\n        vertical-align: middle;\n    }\n\n    .dataframe tbody tr th {\n        vertical-align: top;\n    }\n\n    .dataframe thead th {\n        text-align: right;\n    }\n</style>\n<table border=\"1\" class=\"dataframe\">\n  <thead>\n    <tr style=\"text-align: right;\">\n      <th></th>\n      <th>Rank</th>\n      <th>Team</th>\n      <th>GP</th>\n      <th>Won</th>\n      <th>Lost</th>\n      <th>Tied</th>\n      <th>Pct.</th>\n      <th>First NFL Season</th>\n      <th>Division</th>\n      <th>Stadium</th>\n    </tr>\n  </thead>\n  <tbody>\n    <tr>\n      <th>0</th>\n      <td>1</td>\n      <td>Dallas Cowboys</td>\n      <td>914</td>\n      <td>520</td>\n      <td>388</td>\n      <td>6</td>\n      <td>0.572</td>\n      <td>1960</td>\n      <td>NFC East</td>\n      <td>Levi's Stadium</td>\n    </tr>\n    <tr>\n      <th>1</th>\n      <td>2</td>\n      <td>Green Bay Packers</td>\n      <td>1,368</td>\n      <td>756</td>\n      <td>574</td>\n      <td>38</td>\n      <td>0.567</td>\n      <td>1921</td>\n      <td>NFC North</td>\n      <td>Levi's Stadium</td>\n    </tr>\n    <tr>\n      <th>2</th>\n      <td>3</td>\n      <td>New England Patriots</td>\n      <td>916</td>\n      <td>512</td>\n      <td>395</td>\n      <td>9</td>\n      <td>0.564</td>\n      <td>1960</td>\n      <td>AFC East</td>\n      <td>Levi's Stadium</td>\n    </tr>\n    <tr>\n      <th>3</th>\n      <td>4</td>\n      <td>Chicago Bears</td>\n      <td>1,402</td>\n      <td>769</td>\n      <td>591</td>\n      <td>42</td>\n      <td>0.563</td>\n      <td>1920</td>\n      <td>NFC North</td>\n      <td>Levi's Stadium</td>\n    </tr>\n    <tr>\n      <th>4</th>\n      <td>5</td>\n      <td>Baltimore Ravens</td>\n      <td>384</td>\n      <td>214</td>\n      <td>169</td>\n      <td>1</td>\n      <td>0.559</td>\n      <td>1996</td>\n      <td>AFC North</td>\n      <td>Levi's Stadium</td>\n    </tr>\n    <tr>\n      <th>5</th>\n      <td>6</td>\n      <td>Miami Dolphins</td>\n      <td>832</td>\n      <td>457</td>\n      <td>371</td>\n      <td>4</td>\n      <td>0.552</td>\n      <td>1966</td>\n      <td>AFC East</td>\n      <td>Levi's Stadium</td>\n    </tr>\n  </tbody>\n</table>\n</div>"
     },
     "metadata": {},
     "execution_count": 104
    }
   ],
   "source": [
    "nfl_frame['Stadium'] = \"Levi's Stadium\"\n",
    "nfl_frame"
   ]
  },
  {
   "cell_type": "code",
   "execution_count": 105,
   "metadata": {},
   "outputs": [
    {
     "output_type": "execute_result",
     "data": {
      "text/plain": "   Rank                  Team     GP  Won  Lost  Tied   Pct.  \\\n0     1        Dallas Cowboys    914  520   388     6  0.572   \n1     2     Green Bay Packers  1,368  756   574    38  0.567   \n2     3  New England Patriots    916  512   395     9  0.564   \n3     4         Chicago Bears  1,402  769   591    42  0.563   \n4     5      Baltimore Ravens    384  214   169     1  0.559   \n5     6        Miami Dolphins    832  457   371     4  0.552   \n\n   First NFL Season   Division  Stadium  \n0              1960   NFC East        0  \n1              1921  NFC North        1  \n2              1960   AFC East        2  \n3              1920  NFC North        3  \n4              1996  AFC North        4  \n5              1966   AFC East        5  ",
      "text/html": "<div>\n<style scoped>\n    .dataframe tbody tr th:only-of-type {\n        vertical-align: middle;\n    }\n\n    .dataframe tbody tr th {\n        vertical-align: top;\n    }\n\n    .dataframe thead th {\n        text-align: right;\n    }\n</style>\n<table border=\"1\" class=\"dataframe\">\n  <thead>\n    <tr style=\"text-align: right;\">\n      <th></th>\n      <th>Rank</th>\n      <th>Team</th>\n      <th>GP</th>\n      <th>Won</th>\n      <th>Lost</th>\n      <th>Tied</th>\n      <th>Pct.</th>\n      <th>First NFL Season</th>\n      <th>Division</th>\n      <th>Stadium</th>\n    </tr>\n  </thead>\n  <tbody>\n    <tr>\n      <th>0</th>\n      <td>1</td>\n      <td>Dallas Cowboys</td>\n      <td>914</td>\n      <td>520</td>\n      <td>388</td>\n      <td>6</td>\n      <td>0.572</td>\n      <td>1960</td>\n      <td>NFC East</td>\n      <td>0</td>\n    </tr>\n    <tr>\n      <th>1</th>\n      <td>2</td>\n      <td>Green Bay Packers</td>\n      <td>1,368</td>\n      <td>756</td>\n      <td>574</td>\n      <td>38</td>\n      <td>0.567</td>\n      <td>1921</td>\n      <td>NFC North</td>\n      <td>1</td>\n    </tr>\n    <tr>\n      <th>2</th>\n      <td>3</td>\n      <td>New England Patriots</td>\n      <td>916</td>\n      <td>512</td>\n      <td>395</td>\n      <td>9</td>\n      <td>0.564</td>\n      <td>1960</td>\n      <td>AFC East</td>\n      <td>2</td>\n    </tr>\n    <tr>\n      <th>3</th>\n      <td>4</td>\n      <td>Chicago Bears</td>\n      <td>1,402</td>\n      <td>769</td>\n      <td>591</td>\n      <td>42</td>\n      <td>0.563</td>\n      <td>1920</td>\n      <td>NFC North</td>\n      <td>3</td>\n    </tr>\n    <tr>\n      <th>4</th>\n      <td>5</td>\n      <td>Baltimore Ravens</td>\n      <td>384</td>\n      <td>214</td>\n      <td>169</td>\n      <td>1</td>\n      <td>0.559</td>\n      <td>1996</td>\n      <td>AFC North</td>\n      <td>4</td>\n    </tr>\n    <tr>\n      <th>5</th>\n      <td>6</td>\n      <td>Miami Dolphins</td>\n      <td>832</td>\n      <td>457</td>\n      <td>371</td>\n      <td>4</td>\n      <td>0.552</td>\n      <td>1966</td>\n      <td>AFC East</td>\n      <td>5</td>\n    </tr>\n  </tbody>\n</table>\n</div>"
     },
     "metadata": {},
     "execution_count": 105
    }
   ],
   "source": [
    "nfl_frame['Stadium'] = np.arange(6)\n",
    "nfl_frame"
   ]
  },
  {
   "cell_type": "code",
   "execution_count": 108,
   "metadata": {},
   "outputs": [
    {
     "output_type": "execute_result",
     "data": {
      "text/plain": "4    Levi's stadium\n0      AT&T Studium\ndtype: object"
     },
     "metadata": {},
     "execution_count": 108
    }
   ],
   "source": [
    "stadiums = Series([\"Levi's stadium\", 'AT&T Studium'], index=[4,0])\n",
    "stadiums"
   ]
  },
  {
   "cell_type": "code",
   "execution_count": 110,
   "metadata": {},
   "outputs": [
    {
     "output_type": "execute_result",
     "data": {
      "text/plain": "   Rank                  Team     GP  Won  Lost  Tied   Pct.  \\\n0     1        Dallas Cowboys    914  520   388     6  0.572   \n1     2     Green Bay Packers  1,368  756   574    38  0.567   \n2     3  New England Patriots    916  512   395     9  0.564   \n3     4         Chicago Bears  1,402  769   591    42  0.563   \n4     5      Baltimore Ravens    384  214   169     1  0.559   \n5     6        Miami Dolphins    832  457   371     4  0.552   \n\n   First NFL Season   Division  Stadium         stadium  \n0              1960   NFC East        0    AT&T Studium  \n1              1921  NFC North        1             NaN  \n2              1960   AFC East        2             NaN  \n3              1920  NFC North        3             NaN  \n4              1996  AFC North        4  Levi's stadium  \n5              1966   AFC East        5             NaN  ",
      "text/html": "<div>\n<style scoped>\n    .dataframe tbody tr th:only-of-type {\n        vertical-align: middle;\n    }\n\n    .dataframe tbody tr th {\n        vertical-align: top;\n    }\n\n    .dataframe thead th {\n        text-align: right;\n    }\n</style>\n<table border=\"1\" class=\"dataframe\">\n  <thead>\n    <tr style=\"text-align: right;\">\n      <th></th>\n      <th>Rank</th>\n      <th>Team</th>\n      <th>GP</th>\n      <th>Won</th>\n      <th>Lost</th>\n      <th>Tied</th>\n      <th>Pct.</th>\n      <th>First NFL Season</th>\n      <th>Division</th>\n      <th>Stadium</th>\n      <th>stadium</th>\n    </tr>\n  </thead>\n  <tbody>\n    <tr>\n      <th>0</th>\n      <td>1</td>\n      <td>Dallas Cowboys</td>\n      <td>914</td>\n      <td>520</td>\n      <td>388</td>\n      <td>6</td>\n      <td>0.572</td>\n      <td>1960</td>\n      <td>NFC East</td>\n      <td>0</td>\n      <td>AT&amp;T Studium</td>\n    </tr>\n    <tr>\n      <th>1</th>\n      <td>2</td>\n      <td>Green Bay Packers</td>\n      <td>1,368</td>\n      <td>756</td>\n      <td>574</td>\n      <td>38</td>\n      <td>0.567</td>\n      <td>1921</td>\n      <td>NFC North</td>\n      <td>1</td>\n      <td>NaN</td>\n    </tr>\n    <tr>\n      <th>2</th>\n      <td>3</td>\n      <td>New England Patriots</td>\n      <td>916</td>\n      <td>512</td>\n      <td>395</td>\n      <td>9</td>\n      <td>0.564</td>\n      <td>1960</td>\n      <td>AFC East</td>\n      <td>2</td>\n      <td>NaN</td>\n    </tr>\n    <tr>\n      <th>3</th>\n      <td>4</td>\n      <td>Chicago Bears</td>\n      <td>1,402</td>\n      <td>769</td>\n      <td>591</td>\n      <td>42</td>\n      <td>0.563</td>\n      <td>1920</td>\n      <td>NFC North</td>\n      <td>3</td>\n      <td>NaN</td>\n    </tr>\n    <tr>\n      <th>4</th>\n      <td>5</td>\n      <td>Baltimore Ravens</td>\n      <td>384</td>\n      <td>214</td>\n      <td>169</td>\n      <td>1</td>\n      <td>0.559</td>\n      <td>1996</td>\n      <td>AFC North</td>\n      <td>4</td>\n      <td>Levi's stadium</td>\n    </tr>\n    <tr>\n      <th>5</th>\n      <td>6</td>\n      <td>Miami Dolphins</td>\n      <td>832</td>\n      <td>457</td>\n      <td>371</td>\n      <td>4</td>\n      <td>0.552</td>\n      <td>1966</td>\n      <td>AFC East</td>\n      <td>5</td>\n      <td>NaN</td>\n    </tr>\n  </tbody>\n</table>\n</div>"
     },
     "metadata": {},
     "execution_count": 110
    }
   ],
   "source": [
    "nfl_frame['stadium'] = stadiums\n",
    "nfl"
   ]
  },
  {
   "cell_type": "code",
   "execution_count": 111,
   "metadata": {},
   "outputs": [
    {
     "output_type": "execute_result",
     "data": {
      "text/plain": "   Rank                  Team     GP  Won  Lost  Tied   Pct.  \\\n0     1        Dallas Cowboys    914  520   388     6  0.572   \n1     2     Green Bay Packers  1,368  756   574    38  0.567   \n2     3  New England Patriots    916  512   395     9  0.564   \n3     4         Chicago Bears  1,402  769   591    42  0.563   \n4     5      Baltimore Ravens    384  214   169     1  0.559   \n5     6        Miami Dolphins    832  457   371     4  0.552   \n\n   First NFL Season   Division  Stadium         stadium  \n0              1960   NFC East        0    AT&T Studium  \n1              1921  NFC North        1             NaN  \n2              1960   AFC East        2             NaN  \n3              1920  NFC North        3             NaN  \n4              1996  AFC North        4  Levi's stadium  \n5              1966   AFC East        5             NaN  ",
      "text/html": "<div>\n<style scoped>\n    .dataframe tbody tr th:only-of-type {\n        vertical-align: middle;\n    }\n\n    .dataframe tbody tr th {\n        vertical-align: top;\n    }\n\n    .dataframe thead th {\n        text-align: right;\n    }\n</style>\n<table border=\"1\" class=\"dataframe\">\n  <thead>\n    <tr style=\"text-align: right;\">\n      <th></th>\n      <th>Rank</th>\n      <th>Team</th>\n      <th>GP</th>\n      <th>Won</th>\n      <th>Lost</th>\n      <th>Tied</th>\n      <th>Pct.</th>\n      <th>First NFL Season</th>\n      <th>Division</th>\n      <th>Stadium</th>\n      <th>stadium</th>\n    </tr>\n  </thead>\n  <tbody>\n    <tr>\n      <th>0</th>\n      <td>1</td>\n      <td>Dallas Cowboys</td>\n      <td>914</td>\n      <td>520</td>\n      <td>388</td>\n      <td>6</td>\n      <td>0.572</td>\n      <td>1960</td>\n      <td>NFC East</td>\n      <td>0</td>\n      <td>AT&amp;T Studium</td>\n    </tr>\n    <tr>\n      <th>1</th>\n      <td>2</td>\n      <td>Green Bay Packers</td>\n      <td>1,368</td>\n      <td>756</td>\n      <td>574</td>\n      <td>38</td>\n      <td>0.567</td>\n      <td>1921</td>\n      <td>NFC North</td>\n      <td>1</td>\n      <td>NaN</td>\n    </tr>\n    <tr>\n      <th>2</th>\n      <td>3</td>\n      <td>New England Patriots</td>\n      <td>916</td>\n      <td>512</td>\n      <td>395</td>\n      <td>9</td>\n      <td>0.564</td>\n      <td>1960</td>\n      <td>AFC East</td>\n      <td>2</td>\n      <td>NaN</td>\n    </tr>\n    <tr>\n      <th>3</th>\n      <td>4</td>\n      <td>Chicago Bears</td>\n      <td>1,402</td>\n      <td>769</td>\n      <td>591</td>\n      <td>42</td>\n      <td>0.563</td>\n      <td>1920</td>\n      <td>NFC North</td>\n      <td>3</td>\n      <td>NaN</td>\n    </tr>\n    <tr>\n      <th>4</th>\n      <td>5</td>\n      <td>Baltimore Ravens</td>\n      <td>384</td>\n      <td>214</td>\n      <td>169</td>\n      <td>1</td>\n      <td>0.559</td>\n      <td>1996</td>\n      <td>AFC North</td>\n      <td>4</td>\n      <td>Levi's stadium</td>\n    </tr>\n    <tr>\n      <th>5</th>\n      <td>6</td>\n      <td>Miami Dolphins</td>\n      <td>832</td>\n      <td>457</td>\n      <td>371</td>\n      <td>4</td>\n      <td>0.552</td>\n      <td>1966</td>\n      <td>AFC East</td>\n      <td>5</td>\n      <td>NaN</td>\n    </tr>\n  </tbody>\n</table>\n</div>"
     },
     "metadata": {},
     "execution_count": 111
    }
   ],
   "source": [
    "nfl_frame"
   ]
  },
  {
   "cell_type": "markdown",
   "metadata": {},
   "source": [
    "# Index objects\n"
   ]
  },
  {
   "cell_type": "markdown",
   "metadata": {},
   "source": [
    "# Reindex\n"
   ]
  },
  {
   "cell_type": "markdown",
   "metadata": {},
   "source": [
    "# Drop Entry\n"
   ]
  },
  {
   "cell_type": "markdown",
   "metadata": {},
   "source": [
    "# Selecting Entries\n"
   ]
  },
  {
   "cell_type": "markdown",
   "metadata": {},
   "source": [
    "# Data Alignment\n"
   ]
  },
  {
   "cell_type": "markdown",
   "metadata": {},
   "source": [
    "# Rank and Sort\n"
   ]
  },
  {
   "cell_type": "markdown",
   "metadata": {},
   "source": [
    "# Summary Statistics\n"
   ]
  },
  {
   "cell_type": "code",
   "execution_count": 113,
   "metadata": {},
   "outputs": [
    {
     "output_type": "error",
     "ename": "ModuleNotFoundError",
     "evalue": "No module named 'pandas.io.data'",
     "traceback": [
      "\u001b[0;31m---------------------------------------------------------------------------\u001b[0m",
      "\u001b[0;31mModuleNotFoundError\u001b[0m                       Traceback (most recent call last)",
      "\u001b[0;32m<ipython-input-113-350fe37abe4c>\u001b[0m in \u001b[0;36m<module>\u001b[0;34m\u001b[0m\n\u001b[0;32m----> 1\u001b[0;31m \u001b[0;32mimport\u001b[0m \u001b[0mpandas\u001b[0m\u001b[0;34m.\u001b[0m\u001b[0mio\u001b[0m\u001b[0;34m.\u001b[0m\u001b[0mdata\u001b[0m \u001b[0;32mas\u001b[0m \u001b[0mpdweb\u001b[0m\u001b[0;34m\u001b[0m\u001b[0;34m\u001b[0m\u001b[0m\n\u001b[0m\u001b[1;32m      2\u001b[0m \u001b[0;32mimport\u001b[0m \u001b[0mdatetime\u001b[0m\u001b[0;34m\u001b[0m\u001b[0;34m\u001b[0m\u001b[0m\n\u001b[1;32m      3\u001b[0m \u001b[0mprices\u001b[0m \u001b[0;34m=\u001b[0m \u001b[0mpdweb\u001b[0m\u001b[0;34m.\u001b[0m\u001b[0mget_data_yahoo\u001b[0m\u001b[0;34m(\u001b[0m\u001b[0;34m[\u001b[0m\u001b[0;34m'CVX'\u001b[0m\u001b[0;34m,\u001b[0m\u001b[0;34m'XOM'\u001b[0m\u001b[0;34m,\u001b[0m\u001b[0;34m'BP'\u001b[0m\u001b[0;34m]\u001b[0m\u001b[0;34m,\u001b[0m \u001b[0mstart\u001b[0m\u001b[0;34m=\u001b[0m\u001b[0mdatatime\u001b[0m\u001b[0;34m.\u001b[0m\u001b[0mdatatime\u001b[0m\u001b[0;34m(\u001b[0m\u001b[0;36m2010\u001b[0m\u001b[0;34m,\u001b[0m\u001b[0;36m1\u001b[0m\u001b[0;34m,\u001b[0m\u001b[0;36m1\u001b[0m\u001b[0;34m)\u001b[0m\u001b[0;34m,\u001b[0m \u001b[0mend\u001b[0m\u001b[0;34m=\u001b[0m\u001b[0mdatatime\u001b[0m\u001b[0;34m.\u001b[0m\u001b[0mdatatime\u001b[0m\u001b[0;34m(\u001b[0m\u001b[0;36m2013\u001b[0m\u001b[0;34m,\u001b[0m\u001b[0;36m1\u001b[0m\u001b[0;34m,\u001b[0m\u001b[0;36m1\u001b[0m\u001b[0;34m)\u001b[0m\u001b[0;34m)\u001b[0m\u001b[0;34m[\u001b[0m\u001b[0;34m'Adj Close'\u001b[0m\u001b[0;34m]\u001b[0m\u001b[0;34m\u001b[0m\u001b[0;34m\u001b[0m\u001b[0m\n\u001b[1;32m      4\u001b[0m \u001b[0mprices\u001b[0m\u001b[0;34m\u001b[0m\u001b[0;34m\u001b[0m\u001b[0m\n",
      "\u001b[0;31mModuleNotFoundError\u001b[0m: No module named 'pandas.io.data'"
     ]
    }
   ],
   "source": [
    "import pandas.io.data as pdweb\n",
    "import datetime\n",
    "prices = pdweb.get_data_yahoo(['CVX','XOM','BP'], start=datatime.datatime(2010,1,1), end=datatime.datatime(2013,1,1))['Adj Close']\n",
    "prices"
   ]
  },
  {
   "cell_type": "markdown",
   "metadata": {},
   "source": [
    "# Missing Data\n"
   ]
  },
  {
   "cell_type": "markdown",
   "metadata": {},
   "source": [
    "# Index Hierarchy"
   ]
  }
 ],
 "metadata": {
  "kernelspec": {
   "display_name": "Python 3",
   "language": "python",
   "name": "python3"
  },
  "language_info": {
   "codemirror_mode": {
    "name": "ipython",
    "version": 3
   },
   "file_extension": ".py",
   "mimetype": "text/x-python",
   "name": "python",
   "nbconvert_exporter": "python",
   "pygments_lexer": "ipython3",
   "version": "3.7.6"
  }
 },
 "nbformat": 4,
 "nbformat_minor": 4
}